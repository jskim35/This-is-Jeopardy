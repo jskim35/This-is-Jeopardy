{
 "cells": [
  {
   "cell_type": "markdown",
   "metadata": {},
   "source": [
    "# This is Jeopardy!"
   ]
  },
  {
   "cell_type": "markdown",
   "metadata": {},
   "source": [
    "#### Overview"
   ]
  },
  {
   "cell_type": "markdown",
   "metadata": {},
   "source": [
    "This project is slightly different than others you have encountered thus far. Instead of a step-by-step tutorial, this project contains a series of open-ended requirements which describe the project you'll be building. There are many possible ways to correctly fulfill all of these requirements, and you should expect to use the internet, Codecademy, and/or other resources when you encounter a problem that you cannot easily solve."
   ]
  },
  {
   "cell_type": "markdown",
   "metadata": {},
   "source": [
    "#### Project Goals"
   ]
  },
  {
   "cell_type": "markdown",
   "metadata": {},
   "source": [
    "You will work to write several functions that investigate a dataset of _Jeopardy!_ questions and answers. Filter the dataset for topics that you're interested in, compute the average difficulty of those questions, and train to become the next Jeopardy champion!"
   ]
  },
  {
   "cell_type": "markdown",
   "metadata": {},
   "source": [
    "## Prerequisites"
   ]
  },
  {
   "cell_type": "markdown",
   "metadata": {},
   "source": [
    "In order to complete this project, you should have completed the Pandas lessons in the <a href=\"https://www.codecademy.com/learn/paths/analyze-data-with-python\">Analyze Data with Python Skill Path</a>. You can also find those lessons in the <a href=\"https://www.codecademy.com/learn/data-processing-pandas\">Data Analysis with Pandas course</a> or the <a href=\"https://www.codecademy.com/learn/paths/data-science/\">Data Scientist Career Path</a>.\n",
    "\n",
    "Finally, the <a href=\"https://www.codecademy.com/learn/practical-data-cleaning\">Practical Data Cleaning</a> course may also be helpful."
   ]
  },
  {
   "cell_type": "markdown",
   "metadata": {},
   "source": [
    "## Project Requirements"
   ]
  },
  {
   "cell_type": "markdown",
   "metadata": {},
   "source": [
    "1. We've provided a csv file containing data about the game show _Jeopardy!_ in a file named `jeopardy.csv`. Load the data into a DataFrame and investigate its contents. Try to print out specific columns.\n",
    "\n",
    "   Note that in order to make this project as \"real-world\" as possible, we haven't modified the data at all - we're giving it to you exactly how we found it. As a result, this data isn't as \"clean\" as the datasets you normally find on Codecademy. More specifically, there's something odd about the column names. After you figure out the problem with the column names, you may want to rename them to make your life easier for the rest of the project.\n",
    "   \n",
    "   In order to display the full contents of a column, we've added this line of code for you:\n",
    "   \n",
    "   ```py\n",
    "   pd.set_option('display.max_colwidth', None)\n",
    "   ```"
   ]
  },
  {
   "cell_type": "code",
   "execution_count": 2,
   "metadata": {},
   "outputs": [
    {
     "name": "stdout",
     "output_type": "stream",
     "text": [
      "Index(['Show Number', ' Air Date', ' Round', ' Category', ' Value',\n",
      "       ' Question', ' Answer'],\n",
      "      dtype='object')\n",
      "Index(['Show Number', 'Air Date', 'Round', 'Category', 'Value', 'Question',\n",
      "       'Answer'],\n",
      "      dtype='object')\n"
     ]
    }
   ],
   "source": [
    "import pandas as pd\n",
    "pd.set_option('display.max_colwidth', None)\n",
    "\n",
    "# Loading jeopardy data into pandas DataFrame\n",
    "jeopardy_data = pd.read_csv('jeopardy.csv')\n",
    "print(jeopardy_data.columns)\n",
    "\n",
    "# Renaming Columns \n",
    "jeopardy_data = jeopardy_data.rename(columns = {\" Air Date\": \"Air Date\", \" Round\": \"Round\", \" Category\": \"Category\", \n",
    "\" Value\": \"Value\", \" Question\": \"Question\", \" Answer\": \"Answer\"})\n",
    "print(jeopardy_data.columns)\n"
   ]
  },
  {
   "cell_type": "markdown",
   "metadata": {},
   "source": [
    "2. Write a function that filters the dataset for questions that contains all of the words in a list of words. For example, when the list `[\"King\", \"England\"]` was passed to our function, the function returned a DataFrame of 49 rows. Every row had the strings `\"King\"` and `\"England\"` somewhere in its `\" Question\"`.\n",
    "\n",
    "   Test your function by printing out the column containing the question of each row of the dataset."
   ]
  },
  {
   "cell_type": "code",
   "execution_count": 3,
   "metadata": {},
   "outputs": [
    {
     "name": "stdout",
     "output_type": "stream",
     "text": [
      "4953                                                                                                                                                                                                                                                                      Both England's King George V & FDR put their stamp of approval on this \"King of Hobbies\"\n",
      "14912                                                                                                                                                                                                                                                            This country's King Louis IV was nicknamed \"Louis From Overseas\" because he was raised in England\n",
      "21511                                                                                                                                                                                                                                                                                 this man and his son ruled England following the execution of King Charles I\n",
      "23810                                                                                                                                                                                                                                                         William the Conqueror was crowned King of England in Westminster Abbey on Christmas Day in this year\n",
      "27555                                                                                                                                                                                                                                                                           This member of the Medici family was the mother-in-law of England's King Charles I\n",
      "33294                 (Sarah of the Clue Crew delivers the clue from the Bayeux Cathedral in France.)  Despite taking an oath to assure another succession, Harold is crowned King of England; the tapestry indicated it was <a href=\"http://www.j-archive.com/media/2008-12-18_J_08.jpg\" target=\"_blank\">Stigant</a>, this archbishop, who performed the ceremony\n",
      "41148                                                                                                                                                                                                                                    This French king recognized William of Orange as William II, King of England, under the terms of 1697's Treaty of Ryswick\n",
      "41357                                                                                                                                                                                                                                                     England's King Henry VIII had 3 wives named Catherine:  Catherine Howard, Catherine of Aragon & this one\n",
      "43122                                                                                                                                                                                                                                                                                                                       The father of England's King Edward VI\n",
      "47814                                                                                                                                                                                                                                                                                                   This steak sauce was created for King George IV of England\n",
      "49994                                                                                                                                                                                                                                                                       Elizabeth I's half-brother, he reigned before her as King of England from 1547 to 1553\n",
      "51115                                                                                                                  (<a href=\"http://www.j-archive.com/media/2000-03-02_J_22.jpg\" target=\"_blank\">Alex Trebek reads from England.</a>)  In 1214 barons fed up with King John met at the abbey whose ruins we see here; the result a year later was this charter\n",
      "51565                                                                                                                                                                                                                                                 He wrote several anthems, including \"The King Shall Rejoice\", for the coronation of England's King George II\n",
      "56600                                                                                                                                                                                                                                                              This city known for its 24-hour auto race was the birthplace of England's King Henry II in 1133\n",
      "57516                                                                                                                                                                                                                                                                                         Famous (& rather insulting) adjective for England's King Ethelred II\n",
      "58949                                                                                                                                                                                                                                                                        He became King of England in 1399 after forcing his cousin Richard II from the throne\n",
      "71808                                                                                                                                                                                                                                                                                      Number of the William who was England's \"Sailor King\" from 1830 to 1837\n",
      "74235                                                                                                                                                                                                                                                                     Barons & churchmen drew up this 1215 document to reduce the power of England's King John\n",
      "77195                                                                                                                                                                                                                                                          He became King of England on June 26, 1483; just over 2 years later he was killed at Bosworth Field\n",
      "79457                                                                                                                                                                                                                                              On Christmas Day 1066, he was crowned King of England, 72 days after defeating Harold at the Battle of Hastings\n",
      "80113                                                                                                                                                                                                                                                                                                England's King Charles II was known by this \"jovial\" nickname\n",
      "84639                                                                                                                                                                                                                                                                            He went from second banana on \"Roseanne\" to top banana of England in \"King Ralph\"\n",
      "86412                                                                                                                                                                                                                                                                         This country's King Olaf V was born in England & was the grandson of King Edward VII\n",
      "89710                                                                                                                                                                                                                                                            This 11th Century King of England also ruled Denmark & Norway during the latter part of his reign\n",
      "111926                                                                                                                                                                                                                                                   It begins \"John, by the grace of God, King of England, Lord of Ireland, Duke of Normandy & Aquitaine....\"\n",
      "118809                                                                                                                                                                                                                                                                                            In French this King of England is called Guillaume le Conquerant\n",
      "123299                                                                                                                                                                                                                                                                     If you want to be crowned King of England, this rock has to be in your coronation chair\n",
      "123671                                                                                                                                                                                                                                                                                                                              King Henry VII of England dies\n",
      "125822                                                                                                                                                                                                                                                                                              Famous nickname of the eldest son of England's King Edward III\n",
      "127484                                                                                                                                                                                                                                                                Ethelred the Unready managed to lose most of England to King Sweyn Forkbeard of this country\n",
      "127758                                                                                                                                                                                                                                                                                  This state was named for the King of England who reigned from 1727 to 1760\n",
      "129106                                                                                                                                                                                                                                                              King Edward I of England, who fought William Wallace, had this nickname relating to his height\n",
      "130208                                                                                                                                                                                                                                                                                    This \"Sun King\" sniffed, \"England is a little garden full of sour weeds\"\n",
      "137818                                                                                                                                                                                                                                                                                        The last King William to rule England had this number after his name\n",
      "143434                                                                                                                                                                                                                                                                This Flemish artist painted a unique triple portrait of England's King Charles I around 1637\n",
      "150880                                                                                                                                                                                                                                                                                       During Stanley Baldwin's term as P.M., this King of England abdicated\n",
      "165110                                                                                                                                                                                                                                                        The 1st commoner to rule England, he became lord protector following the overthrow of King Charles I\n",
      "165197                                                                                                                                                                                                                                                       The \"Angel of Hadley\" is said to have saved a New England town during the war with this Indian \"King\"\n",
      "170007                                                                                                                                                                                                                                                                In the 1697 Treaty of Rijswijk, the French recognized this Dutch-born man as King of England\n",
      "174055                                                                                                                                                                                                                                                                                            This conqueror was crowned King of England on Christmas Day 1066\n",
      "175259                                                                                                                                                                                                                                                                                                          His short reign as King of England fell in in 1936\n",
      "183462                                                                                                                                                                                                                                                            A capital in the West Indies is named for this family name of William of Orange, King of England\n",
      "186239                                                                                                                                                                                                                                           He was King of England from 1189 to 1199 but spent only 6 months there; the rest of the time, he was off fighting\n",
      "187651                                                                                                                                                                                                                                                                     This Bahamian capital took its name from the family name of King William III of England\n",
      "191579                                                                                                                                                                                                                                                                             England's King Harold II lost the all-important Battle of Hastings in this year\n",
      "192265    (<a href=\"http://www.j-archive.com/media/2012-01-17_DJ_25.jpg\" target=\"_blank\">Sarah of the Clue Crew stands in front of the Royal Palace in Oslo, Norway.</a>) King Harald V lives here, in Norway's Royal Palace. He and his second cousin, England's Queen Elizabeth, are both great-grandchildren of this British king, who ruled from 1901 to 1910.\n",
      "192966                                                                                                                                                                                                                                                                                                                          England's King _____ _____ R. Luce\n",
      "194516                                                                                                                                                                                                                                                            The \"Monty Python\" member who played King Arthur, he ended his grail quest in Maidstone, England\n",
      "200369                                                                                                                                                                                                                                             8th C. King Offa built a 170-mile north-south dike that still partly marks the border of England & this country\n",
      "Name: Question, dtype: object\n"
     ]
    }
   ],
   "source": [
    "# Filtering a dataset by a list of words\n",
    "def filter_data(data, words):\n",
    "  filter = lambda x: all(word in x for word in words)\n",
    "  return data.loc[data[\"Question\"].apply(filter)]\n",
    "\n",
    "# Testing the filter function\n",
    "filtered = filter_data(jeopardy_data, [\"King\", \"England\"])\n",
    "print(filtered[\"Question\"])"
   ]
  },
  {
   "cell_type": "markdown",
   "metadata": {},
   "source": [
    "3. Test your original function with a few different sets of words to try to find some ways your function breaks. Edit your function so it is more robust.\n",
    "\n",
    "   For example, think about capitalization. We probably want to find questions that contain the word `\"King\"` or `\"king\"`.\n",
    "   \n",
    "   You may also want to check to make sure you don't find rows that contain substrings of your given words. For example, our function found a question that didn't contain the word `\"king\"`, however it did contain the word `\"viking\"` &mdash; it found the `\"king\"` inside `\"viking\"`. Note that this also comes with some drawbacks &mdash; you would no longer find questions that contained words like `\"England's\"`."
   ]
  },
  {
   "cell_type": "code",
   "execution_count": 4,
   "metadata": {},
   "outputs": [
    {
     "name": "stdout",
     "output_type": "stream",
     "text": [
      "4953                    Both England's King George V & FDR put their stamp of approval on this \"King of Hobbies\"\n",
      "6337      In retaliation for Viking raids, this \"Unready\" king of England attacks Norse areas of the Isle of Man\n",
      "9191                    This king of England beat the odds to trounce the French in the 1415 Battle of Agincourt\n",
      "11710               This Scotsman, the first Stuart king of England, was called \"The Wisest Fool in Christendom\"\n",
      "13454                                       It's the number that followed the last king of England named William\n",
      "                                                           ...                                                  \n",
      "208295        In 1066 this great-great grandson of Rollo made what some call the last Viking invasion of England\n",
      "208742                      Dutch-born king who ruled England jointly with Mary II & is a tasty New Zealand fish\n",
      "213870                In 1781 William Herschel discovered Uranus & initially named it after this king of England\n",
      "216021          His nickname was \"Bertie\", but he used this name & number when he became king of England in 1901\n",
      "216789        This kingdom of England grew from 2 settlements, one founded around 495 by Cerdic & his son Cynric\n",
      "Name: Question, Length: 152, dtype: object\n"
     ]
    }
   ],
   "source": [
    "# Filtering a dataset by a list of words\n",
    "def filter_data2(data, words):\n",
    "  # Lowercases all words in the list of words as well as the questions. Returns true if all of the words in the list appear in the question.\n",
    "  filter = lambda x: all(word.lower() in x.lower() for word in words)\n",
    "  # Applies the lambda function to the Question column and returns the rows where the function returned True\n",
    "  return data.loc[data[\"Question\"].apply(filter)]\n",
    "\n",
    "# Testing the filter function\n",
    "filtered = filter_data2(jeopardy_data, [\"King\", \"England\"])\n",
    "print(filtered[\"Question\"])"
   ]
  },
  {
   "cell_type": "markdown",
   "metadata": {},
   "source": [
    "4. We may want to eventually compute aggregate statistics, like `.mean()` on the `\" Value\"` column. But right now, the values in that column are strings. Convert the`\" Value\"` column to floats. If you'd like to, you can create a new column with float values.\n",
    "\n",
    "   While most of the values in the `\" Value\"` column represent a dollar amount as a string, note that some do not &mdash; these values will need to be handled differently!\n",
    "\n",
    "   Now that you can filter the dataset of question, use your new column that contains the float values of each question to find the \"difficulty\" of certain topics. For example, what is the average value of questions that contain the word `\"King\"`?\n",
    "   \n",
    "   Make sure to use the dataset that contains the float values as the dataset you use in your filtering function."
   ]
  },
  {
   "cell_type": "code",
   "execution_count": 5,
   "metadata": {},
   "outputs": [
    {
     "name": "stdout",
     "output_type": "stream",
     "text": [
      "771.8833850722094\n"
     ]
    }
   ],
   "source": [
    "# Adding a new column. If the value of the float column is not \"None\", then we cut off the first character (which is a dollar sign), and replace all commas with nothing, and then cast that value to a float. \n",
    "# If the answer was \"None\", then we just enter a 0.\n",
    "jeopardy_data[\"Float Value\"] = jeopardy_data[\"Value\"].apply(lambda x: float(x[1:].replace(',','')) if x != \"no value\" else 0)\n",
    "\n",
    "# Filtering the dataset and finding the average value of those questions\n",
    "filtered = filter_data2(jeopardy_data, [\"King\"])\n",
    "print(filtered[\"Float Value\"].mean())"
   ]
  },
  {
   "cell_type": "markdown",
   "metadata": {},
   "source": [
    "5. Write a function that returns the count of unique answers to all of the questions in a dataset. For example, after filtering the entire dataset to only questions containing the word `\"King\"`, we could then find all of the unique answers to those questions. The answer \"Henry VIII\" appeared 55 times and was the most common answer."
   ]
  },
  {
   "cell_type": "code",
   "execution_count": 6,
   "metadata": {},
   "outputs": [
    {
     "name": "stdout",
     "output_type": "stream",
     "text": [
      "Answer\n",
      "Henry VIII                   55\n",
      "Solomon                      35\n",
      "Richard III                  33\n",
      "Louis XIV                    31\n",
      "David                        30\n",
      "                             ..\n",
      "cardiac (in card I acted)     1\n",
      "Henderson                     1\n",
      "Computer                      1\n",
      "Indians                       1\n",
      "work                          1\n",
      "Name: count, Length: 5268, dtype: int64\n"
     ]
    }
   ],
   "source": [
    "# A function to find the unique answers of a set of data\n",
    "def get_answer_counts(data):\n",
    "    return data[\"Answer\"].value_counts()\n",
    "\n",
    "# Testing the answer count function\n",
    "print(get_answer_counts(filtered))"
   ]
  },
  {
   "cell_type": "markdown",
   "metadata": {},
   "source": [
    "6. Explore from here! This is an incredibly rich dataset, and there are so many interesting things to discover. There are a few columns that we haven't even started looking at yet. Here are some ideas on ways to continue working with this data:\n",
    "\n",
    " * Investigate the ways in which questions change over time by filtering by the date. How many questions from the 90s use the word `\"Computer\"` compared to questions from the 2000s?\n",
    " * Is there a connection between the round and the category? Are you more likely to find certain categories, like `\"Literature\"` in Single Jeopardy or Double Jeopardy?\n",
    " * Build a system to quiz yourself. Grab random questions, and use the <a href=\"https://docs.python.org/3/library/functions.html#input\">input</a> function to get a response from the user. Check to see if that response was right or wrong."
   ]
  },
  {
   "cell_type": "markdown",
   "metadata": {},
   "source": [
    "7. Investigate the ways in which questions change over time by filtering by the date. How many questions from the 90s use the word `\"Computer\"` compared to questions from the 2000s?"
   ]
  },
  {
   "cell_type": "code",
   "execution_count": null,
   "metadata": {},
   "outputs": [
    {
     "name": "stdout",
     "output_type": "stream",
     "text": [
      "Computer questions in 1990s: 98\n",
      "Computer questions in 2000s: 268\n",
      "Percentage Change from 90s to 2000s:  168.0%\n"
     ]
    }
   ],
   "source": [
    "# Converting Air Date into datetime data type\n",
    "jeopardy_data['Air Date'] = pd.to_datetime(jeopardy_data['Air Date'])\n",
    "\n",
    "# Filtering jeopary_data for questions containing \"Computer\"\n",
    "computer_questions = filter_data2(jeopardy_data, ['Computer'])\n",
    "\n",
    "# Filter for 1990s \n",
    "computer_90s = computer_questions[(computer_questions['Air Date'] >= '1990-01-01') & (computer_questions['Air Date'] < '2000-01-01')]\n",
    "# Filter for 2000s \n",
    "computer_2000s = computer_questions[(computer_questions['Air Date'] >= '2000-01-01') & (computer_questions['Air Date'] < '2010-01-01')]\n",
    "\n",
    "print(f'Computer questions in 1990s: {len(computer_90s)}')\n",
    "print(f'Computer questions in 2000s: {len(computer_2000s)}')\n",
    "\n",
    "# Percentage Change \n",
    "if len(computer_90s) > 0:\n",
    "    change = (len(computer_2000s) - len(computer_90s) / len(computer_90s) * 100)\n",
    "print(f'Percentage Change from 90s to 2000s: {change: .1f}%')"
   ]
  },
  {
   "cell_type": "markdown",
   "metadata": {},
   "source": [
    "8. Is there a connection between the round and the category? Are you more likely to find certain categories, like `\"Literature\"` in Single Jeopardy or Double Jeopardy?"
   ]
  },
  {
   "cell_type": "code",
   "execution_count": 18,
   "metadata": {},
   "outputs": [
    {
     "name": "stdout",
     "output_type": "stream",
     "text": [
      "\n",
      "Literature questions by round (percentages):\n",
      "Round\n",
      "Double Jeopardy!    67.607441\n",
      "Jeopardy!           27.132777\n",
      "Final Jeopardy!      5.259782\n",
      "Name: proportion, dtype: float64\n",
      "\n",
      "Overall distribution of rounds:\n",
      "Round\n",
      "Jeopardy!           107384\n",
      "Double Jeopardy!    105912\n",
      "Final Jeopardy!       3631\n",
      "Tiebreaker               3\n",
      "Name: count, dtype: int64\n",
      "\n",
      "Top 10 categories by total questions:\n",
      "Category\n",
      "BEFORE & AFTER             547\n",
      "SCIENCE                    519\n",
      "LITERATURE                 496\n",
      "AMERICAN HISTORY           418\n",
      "POTPOURRI                  401\n",
      "WORLD HISTORY              377\n",
      "WORD ORIGINS               371\n",
      "COLLEGES & UNIVERSITIES    351\n",
      "HISTORY                    349\n",
      "SPORTS                     342\n",
      "Name: count, dtype: int64\n"
     ]
    }
   ],
   "source": [
    "literature_questions = jeopardy_data[jeopardy_data['Category'].str.contains(\"LITERATURE\", case=False, na=False)]\n",
    "literature_by_round = literature_questions['Round'].value_counts()\n",
    "\n",
    "# Calculate percentages\n",
    "literature_percentages = literature_questions['Round'].value_counts(normalize=True) * 100\n",
    "print(f\"\\nLiterature questions by round (percentages):\")\n",
    "print(literature_percentages)\n",
    "\n",
    "# Let's do a more comprehensive analysis for all categories\n",
    "print(f\"\\nOverall distribution of rounds:\")\n",
    "overall_rounds = jeopardy_data['Round'].value_counts()\n",
    "print(overall_rounds)\n",
    "\n",
    "# Create a crosstab to see the relationship\n",
    "category_round_crosstab = pd.crosstab(jeopardy_data['Category'], jeopardy_data['Round'])\n",
    "print(f\"\\nTop 10 categories by total questions:\")\n",
    "top_categories = jeopardy_data['Category'].value_counts().head(10)\n",
    "print(top_categories)\n"
   ]
  },
  {
   "cell_type": "markdown",
   "metadata": {},
   "source": [
    "8. Build a system to quiz yourself. Grab random questions, and use the <a href=\"https://docs.python.org/3/library/functions.html#input\">input</a> function to get a response from the user. Check to see if that response was right or wrong."
   ]
  },
  {
   "cell_type": "code",
   "execution_count": 19,
   "metadata": {},
   "outputs": [
    {
     "name": "stdout",
     "output_type": "stream",
     "text": [
      "Welcome to the Jeopardy Quiz!\n",
      "Type 'quit' to exit at any time.\n",
      "\n",
      "Category: PARADISE LOST\n",
      "Value: $800\n",
      "Question: The poem describes this Biblical beast as \"hugest of living creatures, on the deep stretcht like a promontorie\"\n"
     ]
    },
    {
     "name": "stdout",
     "output_type": "stream",
     "text": [
      "Sorry, the correct answer was: Leviathan\n",
      "Current score: $0\n",
      "--------------------------------------------------\n",
      "\n",
      "Game Over!\n",
      "Final Score: $0\n",
      "Questions answered: 1\n",
      "Average per question: $0\n"
     ]
    }
   ],
   "source": [
    "# Building a System to quiz myself \n",
    "    # I need to write a function that is able to pick a random question from the jeopardy_data and output that\n",
    "    # Ask the user for an input based on the question asked \n",
    "    # Check if the user's input is right or wrong by checking against the Question's answer \n",
    "    # Output whether the user got it right or wrong; if they did print out 'That is correct. You Won {\"Float Value\"}!'\n",
    "\n",
    "import random \n",
    "def jeopardy_quiz():\n",
    "    \"\"\"\n",
    "    A simple Jeopardy quiz system that asks random questions\n",
    "    \"\"\"\n",
    "    print(\"Welcome to the Jeopardy Quiz!\")\n",
    "    print(\"Type 'quit' to exit at any time.\\n\")\n",
    "    \n",
    "    score = 0\n",
    "    total_questions = 0\n",
    "    \n",
    "    while True:\n",
    "        # Get a random question\n",
    "        random_row = jeopardy_data.sample(1).iloc[0]\n",
    "        question = random_row['Question']\n",
    "        correct_answer = random_row['Answer']\n",
    "        category = random_row['Category']\n",
    "        value = random_row['Float Value']\n",
    "        \n",
    "        print(f\"Category: {category}\")\n",
    "        print(f\"Value: ${value:.0f}\")\n",
    "        print(f\"Question: {question}\")\n",
    "        \n",
    "        # Get user input\n",
    "        user_answer = input(\"\\nYour answer: \").strip()\n",
    "        \n",
    "        if user_answer.lower() == 'quit':\n",
    "            break\n",
    "            \n",
    "        # Check if answer is correct (case-insensitive)\n",
    "        if user_answer.lower() == correct_answer.lower():\n",
    "            print(f\"Correct! You earned ${value:.0f}\")\n",
    "            score += value\n",
    "        else:\n",
    "            print(f\"Sorry, the correct answer was: {correct_answer}\")\n",
    "        \n",
    "        total_questions += 1\n",
    "        print(f\"Current score: ${score:.0f}\")\n",
    "        print(\"-\" * 50)\n",
    "        \n",
    "        # Ask if they want to continue\n",
    "        continue_game = input(\"Continue? (y/n): \").strip().lower()\n",
    "        if continue_game != 'y':\n",
    "            break\n",
    "    \n",
    "    print(f\"\\nGame Over!\")\n",
    "    print(f\"Final Score: ${score:.0f}\")\n",
    "    print(f\"Questions answered: {total_questions}\")\n",
    "    if total_questions > 0:\n",
    "        print(f\"Average per question: ${score/total_questions:.0f}\")\n",
    "\n",
    "jeopardy_quiz()\n",
    "\n",
    "\n"
   ]
  },
  {
   "cell_type": "markdown",
   "metadata": {},
   "source": [
    "More Sophisticated Quiz "
   ]
  },
  {
   "cell_type": "code",
   "execution_count": 22,
   "metadata": {},
   "outputs": [
    {
     "name": "stdout",
     "output_type": "stream",
     "text": [
      "Welcome to the Enhanced Jeopardy Quiz!\n",
      "Type 'quit' to exit at any time.\n",
      "Tip: You don't need to include 'What is' or 'Who is'\n",
      "\n",
      "Category: MAKES SCENTS TO ME!\n",
      "Value: $400\n",
      "Question: Stacked Style makes 2 fragrances that rhyme: Razzle & this one\n",
      "Correct! You earned $400\n",
      "Current score: $400\n",
      "--------------------------------------------------\n",
      "Category: FILL IN THE HISTORY _____\n",
      "Value: $1000\n",
      "Question: Deadly period of the French Revolution: The ____ of Terror\n",
      "Correct! You earned $1000\n",
      "Current score: $1400\n",
      "--------------------------------------------------\n",
      "Category: THE OLYMPICS\n",
      "Value: $2000\n",
      "Question: 1 of 3 new medal sports added to the 1992 Summer Olympics\n",
      "Sorry, the correct answer was: Badminton, baseball or women's judo\n",
      "Current score: $1400\n",
      "--------------------------------------------------\n",
      "Category: NEXT STOP, VENUS\n",
      "Value: $400\n",
      "Question: In 1610 this Italian discovered that Venus has phases like the moon\n",
      "Correct! You earned $400\n",
      "Current score: $1800\n",
      "--------------------------------------------------\n",
      "Category: TORAH!  TORAH!  TORAH!\n",
      "Value: $2000\n",
      "Question: Aaron is described as a priest, or in Hebrew, this common Jewish surname\n",
      "Correct! You earned $2000\n",
      "Current score: $3800\n",
      "--------------------------------------------------\n",
      "Category: RABBIT\n",
      "Value: $800\n",
      "Question: Answering this aurally-challenged kid's song title question, the English lop rabbit would reply \"Yes\"\n",
      "Correct! You earned $800\n",
      "Current score: $4600\n",
      "--------------------------------------------------\n",
      "Category: THE SECOND LARGEST CITY\n",
      "Value: $400\n",
      "Question: Ankara\n",
      "Correct! You earned $400\n",
      "Current score: $5000\n",
      "--------------------------------------------------\n",
      "\n",
      "Game Over!\n",
      "Final Score: $5000\n",
      "Questions answered: 7\n",
      "Average per question: $714\n"
     ]
    }
   ],
   "source": [
    "# Alternative: More sophisticated answer checking\n",
    "def check_answer_similarity(user_answer, correct_answer):\n",
    "    \"\"\"\n",
    "    Check if answers are similar (handles common variations)\n",
    "    \"\"\"\n",
    "    import re\n",
    "    \n",
    "    # Clean both answers\n",
    "    def clean_answer(answer):\n",
    "        # Remove common prefixes/suffixes\n",
    "        answer = re.sub(r'^(what is|who is|what are|who are)\\s*', '', answer.lower())\n",
    "        answer = re.sub(r'^(a|an|the)\\s*', '', answer)\n",
    "        # Remove punctuation and extra spaces\n",
    "        answer = re.sub(r'[^\\w\\s]', '', answer)\n",
    "        return answer.strip()\n",
    "    \n",
    "    user_clean = clean_answer(user_answer)\n",
    "    correct_clean = clean_answer(correct_answer)\n",
    "    \n",
    "    # Check exact match\n",
    "    if user_clean == correct_clean:\n",
    "        return True\n",
    "    \n",
    "    # Check if one is contained in the other\n",
    "    if user_clean in correct_clean or correct_clean in user_clean:\n",
    "        return True\n",
    "    \n",
    "    return False\n",
    "\n",
    "def enhanced_jeopardy_quiz():\n",
    "    \"\"\"\n",
    "    Enhanced quiz with better answer matching\n",
    "    \"\"\"\n",
    "    print(\"Welcome to the Enhanced Jeopardy Quiz!\")\n",
    "    print(\"Type 'quit' to exit at any time.\")\n",
    "    print(\"Tip: You don't need to include 'What is' or 'Who is'\\n\")\n",
    "    \n",
    "    score = 0\n",
    "    total_questions = 0\n",
    "    \n",
    "    while True:\n",
    "        # Get a random question with a reasonable value (not 0)\n",
    "        valid_questions = jeopardy_data[jeopardy_data['Float Value'] > 0]\n",
    "        random_row = valid_questions.sample(1).iloc[0]\n",
    "        \n",
    "        question = random_row['Question']\n",
    "        correct_answer = random_row['Answer']\n",
    "        category = random_row['Category']\n",
    "        value = random_row['Float Value']\n",
    "        \n",
    "        print(f\"Category: {category}\")\n",
    "        print(f\"Value: ${value:.0f}\")\n",
    "        print(f\"Question: {question}\")\n",
    "        \n",
    "        user_answer = input(\"\\nYour answer: \").strip()\n",
    "        \n",
    "        if user_answer.lower() == 'quit':\n",
    "            break\n",
    "            \n",
    "        # Check answer with similarity function\n",
    "        if check_answer_similarity(user_answer, correct_answer):\n",
    "            print(f\"Correct! You earned ${value:.0f}\")\n",
    "            score += value\n",
    "        else:\n",
    "            print(f\"Sorry, the correct answer was: {correct_answer}\")\n",
    "        \n",
    "        total_questions += 1\n",
    "        print(f\"Current score: ${score:.0f}\")\n",
    "        print(\"-\" * 50)\n",
    "        \n",
    "        continue_game = input(\"Continue? (y/n): \").strip().lower()\n",
    "        if continue_game != 'y':\n",
    "            break\n",
    "    \n",
    "    print(f\"\\nGame Over!\")\n",
    "    print(f\"Final Score: ${score:.0f}\")\n",
    "    print(f\"Questions answered: {total_questions}\")\n",
    "    if total_questions > 0:\n",
    "        print(f\"Average per question: ${score/total_questions:.0f}\")\n",
    "\n",
    "enhanced_jeopardy_quiz()\n"
   ]
  }
 ],
 "metadata": {
  "kernelspec": {
   "display_name": "base",
   "language": "python",
   "name": "python3"
  },
  "language_info": {
   "codemirror_mode": {
    "name": "ipython",
    "version": 3
   },
   "file_extension": ".py",
   "mimetype": "text/x-python",
   "name": "python",
   "nbconvert_exporter": "python",
   "pygments_lexer": "ipython3",
   "version": "3.12.7"
  }
 },
 "nbformat": 4,
 "nbformat_minor": 2
}
